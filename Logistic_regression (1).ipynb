{
  "nbformat": 4,
  "nbformat_minor": 0,
  "metadata": {
    "colab": {
      "name": "Logistic regression.ipynb",
      "version": "0.3.2",
      "provenance": [],
      "collapsed_sections": []
    },
    "kernelspec": {
      "display_name": "Python 3",
      "language": "python",
      "name": "python3"
    }
  },
  "cells": [
    {
      "metadata": {
        "id": "9xwkIPyqwMt0",
        "colab_type": "text"
      },
      "cell_type": "markdown",
      "source": [
        "# Upload files"
      ]
    },
    {
      "metadata": {
        "id": "ILce_K6dwiyE",
        "colab_type": "code",
        "outputId": "b04657f4-0818-487a-fab6-1cc0f0327a45",
        "colab": {
          "resources": {
            "http://localhost:8080/nbextensions/google.colab/files.js": {
              "data": "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",
              "ok": true,
              "headers": [
                [
                  "content-type",
                  "application/javascript"
                ]
              ],
              "status": 200,
              "status_text": ""
            }
          },
          "base_uri": "https://localhost:8080/",
          "height": 140
        }
      },
      "cell_type": "code",
      "source": [
        "# Uploading files from your local file system\n",
        "# AmesHousing.txt\n",
        "\n",
        "from google.colab import files\n",
        "\n",
        "uploaded = files.upload()\n",
        "\n",
        "for fn in uploaded.keys():\n",
        "  print('User uploaded file \"{name}\" with length {length} bytes'.format(\n",
        "      name=fn, length=len(uploaded[fn])))"
      ],
      "execution_count": 0,
      "outputs": [
        {
          "output_type": "display_data",
          "data": {
            "text/html": [
              "\n",
              "     <input type=\"file\" id=\"files-c1f366fd-e190-4948-9b7d-f9854ed3d59c\" name=\"files[]\" multiple disabled />\n",
              "     <output id=\"result-c1f366fd-e190-4948-9b7d-f9854ed3d59c\">\n",
              "      Upload widget is only available when the cell has been executed in the\n",
              "      current browser session. Please rerun this cell to enable.\n",
              "      </output>\n",
              "      <script src=\"/nbextensions/google.colab/files.js\"></script> "
            ],
            "text/plain": [
              "<IPython.core.display.HTML object>"
            ]
          },
          "metadata": {
            "tags": []
          }
        },
        {
          "output_type": "stream",
          "text": [
            "Saving admissions.csv to admissions.csv\n",
            "Saving auto.csv to auto (1).csv\n",
            "User uploaded file \"admissions.csv\" with length 24734 bytes\n",
            "User uploaded file \"auto.csv\" with length 14080 bytes\n"
          ],
          "name": "stdout"
        }
      ]
    },
    {
      "metadata": {
        "colab_type": "text",
        "id": "fDzsloXeJE3f"
      },
      "cell_type": "markdown",
      "source": [
        "# 1 - Classification\n"
      ]
    },
    {
      "metadata": {
        "id": "fqkGKXzvJFv5",
        "colab_type": "text"
      },
      "cell_type": "markdown",
      "source": [
        "\n",
        "In the previous lessons, we explored a supervised machine learning technique called **linear regression**. Linear regression works well when the target column we're trying to predict, the dependent variable, is ordered and continuous. **If the target column instead contains discrete values, then linear regression isn't a good fit**.\n",
        "\n",
        "In this lesson, we'll explore how to build a predictive model for these types of problems, which are known as **classification problems**. In classification, our target column has a finite set of possible values which represent different categories a row can belong to. We use integers to represent the different categories so we can continue to use mathematical functions to describe how the independent variables map to the dependent variable. Here are a few examples of classification problems:\n",
        "\n",
        "| Problem                                                                   | Sample Features                                    | Type        | Categories           | Numerical Categories |\n",
        "|---------------------------------------------------------------------------|----------------------------------------------------|-------------|----------------------|----------------------|\n",
        "| Should we accept this student based on their graduate school application? | College GPA, SAT Score, Quality of Recommendations | Binary      | Don't Accept, Accept | 0, 1                 |\n",
        "| What is the most likely blood type of 2 parent's offspring?               | Parent 1's blood type, Parent 2's blood type.      | Multi-class | A, B, AB, O          | 1, 2, 3, 4           |\n",
        "\n",
        "\n",
        "We'll focus on **binary classification** for now, where the only 2 options for values are:\n",
        "\n",
        "- **0** for the False condition,\n",
        "- **1** for the True condition.\n",
        "\n",
        "Before we dive into classification, let's understand the data we'll be working with."
      ]
    },
    {
      "metadata": {
        "id": "2wMlyd4AITqv",
        "colab_type": "text"
      },
      "cell_type": "markdown",
      "source": [
        "## 1.1 -  Introduction to the data\n"
      ]
    },
    {
      "metadata": {
        "id": "MW5u3eDhNRD1",
        "colab_type": "text"
      },
      "cell_type": "markdown",
      "source": [
        "\n",
        "\n",
        "Every year high school student and college students apply to various universities and programs. Each student has a unique set of test scores, grades, and backgrounds. Somehow, the admission commitees must decide which applicants to accept or reject from their program. In this case a binary classification algorithm can be used to accept or reject applicants. To grasp the concepts of classification, we'll try to predict whether an applicant will be admitted to a graduate program in a U.S. university.\n",
        "\n",
        "We'll be working with a dataset containing data on 644 applicants with the following columns:\n",
        "\n",
        "- **gre** - applicant's score on the Graduate Record Exam, a generalized test for prospective graduate students.\n",
        "    - Score ranges from 200 to 800.\n",
        "- **gpa** - college grade point average.\n",
        "    - Continuous between 0.0 and 4.0.\n",
        "- **admit** - binary value\n",
        "    - Binary value, 0 or 1, where 1 means the applicant was admitted to the program and 0 means the applicant was rejected.\n",
        "\n",
        "Here's a preview of the dataset:\n",
        "\n",
        "| admit | gpa      | gre        |\n",
        "|-------|----------|------------|\n",
        "| 0     | 3.177277 | 594.102992 |\n",
        "| 0     | 3.412655 | 631.528607 |\n",
        "| 0     | 2.728097 | 553.714399 |\n",
        "| 0     | 3.093559 | 551.089985 |\n",
        "| 0     | 3.141923 | 537.184894 |\n",
        "\n",
        "\n",
        "While we can use both the **gpa** and **gre** columns to predict the **admit** column, we'll focus on using just the **gpa** column to keep things simple. Let's read the data into Pandas and visualize the relationship between **gpa** and **admit**.\n",
        "\n",
        "\n",
        "**Exercise Start**\n",
        "\n",
        "<img width=\"100\" alt=\"creating a repo\" src=\"https://drive.google.com/uc?export=view&id=1E8tR7B9YYUXsU_rddJAyq0FrM0MSelxZ\">\n",
        "\n",
        "\n",
        "- Read **admissions.csv** into a Dataframe named **admissions**.\n",
        "- Use the Matplotlib method [scatter](http://matplotlib.org/api/pyplot_api.html#matplotlib.pyplot.scatter) to generate a scatter plot with the:\n",
        "  - **gpa** column on the x-axis.\n",
        "  - **admit** column on the y-axis.\n",
        "- Use **plt.show()** to display the scatter plot."
      ]
    },
    {
      "metadata": {
        "id": "UgrKdj-OPk5y",
        "colab_type": "code",
        "outputId": "2fd88de5-eb9c-437a-b3e9-917a583df17e",
        "colab": {
          "base_uri": "https://localhost:8080/",
          "height": 361
        }
      },
      "cell_type": "code",
      "source": [
        "import pandas as pd\n",
        "import matplotlib.pyplot as plt\n",
        "\n",
        "admissions = pd.read_csv(\"admissions.csv\", low_memory=False)\n",
        "X = admissions[['gpa']]\n",
        "y = admissions[['admit']]\n",
        "plt.scatter(X.values,y.values)\n",
        "plt.xlabel('GPA')\n",
        "plt.ylabel('GRE')\n",
        "plt.show()"
      ],
      "execution_count": 0,
      "outputs": [
        {
          "output_type": "display_data",
          "data": {
            "image/png": "[encoded data removed]",
            "text/plain": [
              "<matplotlib.figure.Figure at 0x7f41dd321128>"
            ]
          },
          "metadata": {
            "tags": []
          }
        }
      ]
    },
    {
      "metadata": {
        "id": "WyHKyDYIITq3",
        "colab_type": "text"
      },
      "cell_type": "markdown",
      "source": [
        "## 1.2 - Logistic regression\n"
      ]
    },
    {
      "metadata": {
        "id": "QTp1elcUP_qp",
        "colab_type": "text"
      },
      "cell_type": "markdown",
      "source": [
        "\n",
        "\n",
        "In the previous scatter plot, you'll notice that the **gpa** column and the **admit** column do not have a clear linear relationship. Recall that the **admit** column only contains the values **0** and **1** and are used to represent binary values and the numbers themselves don't carry any weight. When numbers are used to represent different options or categories, they are referred to as **categorical values**. Classification focuses on estimating the relationship between the independent variables (x) and the dependent (y), **categorical variable**.\n",
        "\n",
        "In this lesson, we'll focus on a classification technique called **logistic regression**. While a **linear regression** model outputs a real number as the label, a **logistic regression** model outputs a probability value. In binary classification, if the probability value is larger than a certain threshold probability, we assign the label for that row to **1** or **0** otherwise.\n",
        "\n",
        "This threshold probability is something we select, and we'll learn about how to select a good threshold probability in later classes. For now, let's dive more into how logistic regression works."
      ]
    },
    {
      "metadata": {
        "id": "2S3hN_IBITq4",
        "colab_type": "text"
      },
      "cell_type": "markdown",
      "source": [
        "## 1.3 - Logistic function\n"
      ]
    },
    {
      "metadata": {
        "id": "wLg8sv2yfLzh",
        "colab_type": "text"
      },
      "cell_type": "markdown",
      "source": [
        "\n",
        "\n",
        "In **linear regression**, we used the linear function $y = mx + b$ to represent the relationship between the independent variables and the dependent variable. In logistic regression, we use the **logistic function**, which is a version of the linear function that is adapted for classification.\n",
        "\n",
        "Let's explore some of the **logistic function's** properties to better understand why it's useful for **classification** tasks. Unlike in linear regression, where the output can be any real value, in **logistic regression** the output has to be a real value between **0** and **1**, since the output represents a probability value. Note that the model can't output a negative value or it would violate this criteria.\n",
        "\n",
        "Here's the mathematical representation of the logistic function:\n",
        "\n",
        "$$\\sigma(t)=\\frac{1}{1+e^{-t}}$$\n",
        "\n",
        "In the following code cell, we plotted the **logistic function** to visualize its properties. Specifically, we:\n",
        "\n",
        "- define the **logistic()** function using the [NumPy exp](http://docs.scipy.org/doc/numpy-1.10.1/reference/generated/numpy.exp.html) function,\n",
        "- generate equally spaced values, between **-6** and **6** to represent the x-axis,\n",
        "- calculate the y-axis values by feeding each value in **x** to the **logistic()** function,\n",
        "- creating a line plot to visualize **x** and **y**.\n"
      ]
    },
    {
      "metadata": {
        "id": "k2dqahgyITq5",
        "colab_type": "code",
        "outputId": "441a2754-620d-40b4-98b7-57b1ba9552d2",
        "colab": {
          "base_uri": "https://localhost:8080/",
          "height": 361
        }
      },
      "cell_type": "code",
      "source": [
        "import numpy as np\n",
        "import matplotlib.pyplot as plt\n",
        "\n",
        "# Logistic Function\n",
        "def logistic(x):\n",
        "    # np.exp(x) raises x to the exponential power, ie e^x. e ~= 2.71828\n",
        "    return 1 / (1 + np.exp(-x)) \n",
        "    \n",
        "# Generate 50 real values, evenly spaced, between -6 and 6.\n",
        "x = np.linspace(-6,6,50, dtype=float)\n",
        "\n",
        "# Transform each number in t using the logistic function.\n",
        "y = logistic(x)\n",
        "\n",
        "# Plot the resulting data.\n",
        "plt.plot(x, y)\n",
        "plt.ylabel(\"Probability\")\n",
        "plt.xlabel(\"x\")\n",
        "plt.show()"
      ],
      "execution_count": 0,
      "outputs": [
        {
          "output_type": "display_data",
          "data": {
            "image/png": "[encoded data removed]",
            "text/plain": [
              "<matplotlib.figure.Figure at 0x7f41f3715c18>"
            ]
          },
          "metadata": {
            "tags": []
          }
        }
      ]
    },
    {
      "metadata": {
        "id": "GK2U83O6ITq8",
        "colab_type": "text"
      },
      "cell_type": "markdown",
      "source": [
        "## 1.4 -  Training a logistic regression model\n"
      ]
    },
    {
      "metadata": {
        "id": "9J3J8YMt-91T",
        "colab_type": "text"
      },
      "cell_type": "markdown",
      "source": [
        "\n",
        "\n",
        "Let's now move onto training the logistic regression model using our dataset. We won't dive into the math and the steps required to fit a logistic regression model to the training data in this pratice. We'll instead focus on using the **scikit-learn** library to fit a model between the **gpa** and **admit** columns. Recall that the **gpa** column contains the GPA of each applicant as a real value between **0.0** and **4.0** and the **admit** column specifies if that applicant was admitted (0 if not admitted and 1 if admitted). Since we're only working with one feature, **gpa**, this is referred to as a univariate model.\n",
        "\n",
        "Training a **logistic regression** model in **scikit-learn** is similar to training a **linear regression** model, with the key difference that we use the **LogisticRegression class** instead of the **LinearRegression class**. Scikit-learn was designed to make it easy to swap out models by keeping the syntax and notation as consistent as possible across it's different classes.\n",
        "\n",
        "\n",
        "**Exercise Start**\n",
        "\n",
        "<img width=\"100\" alt=\"creating a repo\" src=\"https://drive.google.com/uc?export=view&id=1E8tR7B9YYUXsU_rddJAyq0FrM0MSelxZ\">\n",
        "\n",
        "\n",
        "\n",
        "- Import the **LogisticRegression class** and instantiate a model named **logistic_model**.\n",
        "- Use the LogisticRegression method **fit** to fit the model to the data. We're only interested in constructing a model that uses **gpa** values to predict **admit** values.\n",
        "- View the [documentation](http://scikit-learn.org/stable/modules/generated/sklearn.linear_model.LogisticRegression.html) for the **LogisticRegression class** if you get stuck."
      ]
    },
    {
      "metadata": {
        "id": "JCQgfgfSAKdi",
        "colab_type": "code",
        "outputId": "40115761-d62a-424d-db44-e2afac86028f",
        "colab": {
          "base_uri": "https://localhost:8080/",
          "height": 85
        }
      },
      "cell_type": "code",
      "source": [
        "from sklearn.linear_model import LogisticRegression\n",
        "model = LogisticRegression()\n",
        "model.fit(admissions[['gpa']], admissions['admit'])"
      ],
      "execution_count": 0,
      "outputs": [
        {
          "output_type": "execute_result",
          "data": {
            "text/plain": [
              "LogisticRegression(C=1.0, class_weight=None, dual=False, fit_intercept=True,\n",
              "          intercept_scaling=1, max_iter=100, multi_class='ovr', n_jobs=1,\n",
              "          penalty='l2', random_state=None, solver='liblinear', tol=0.0001,\n",
              "          verbose=0, warm_start=False)"
            ]
          },
          "metadata": {
            "tags": []
          },
          "execution_count": 6
        }
      ]
    },
    {
      "metadata": {
        "id": "wE1B6LGUITrB",
        "colab_type": "text"
      },
      "cell_type": "markdown",
      "source": [
        "## 1.5 -  Plotting probabilities\n"
      ]
    },
    {
      "metadata": {
        "id": "Z-znddS5AeLk",
        "colab_type": "text"
      },
      "cell_type": "markdown",
      "source": [
        "\n",
        "\n",
        "We mentioned earlier that the output of a logistic regression model is the probability that the row should be labelled as **True**, or in our case **1**. We can use the trained model to return the predicted probability for each row in the training data.\n",
        "\n",
        "To return the predicted probability, use the [predict_proba method](http://scikit-learn.org/stable/modules/generated/sklearn.linear_model.LogisticRegression.html#sklearn.linear_model.LogisticRegression.predict_proba). The only required parameter for this method is the **num_features** by **num_sample** matrix of observations we want scikit-learn to return predicted probabilities for. For each input row, scikit-learn will return a NumPy array with 2 probability values:\n",
        "\n",
        "- the probability that the row should be labelled 0,\n",
        "- the probability that the row should be labelled 1.\n",
        "\n",
        "Since 0 and 1 are the only 2 possible categories and represent the entire outcome space, these 2 probabilities will always add upto 1.\n",
        "\n",
        "```python\n",
        "probabilities = logistic_model.predict_proba(admissions[[\"gpa\"]])\n",
        "# Probability that the row belongs to label `0`.\n",
        "probabilities[:,0]\n",
        "# Probabililty that the row belongs to label `1`.\n",
        "probabilities[:,1]\n",
        "```\n",
        "\n",
        "Let's use this method to return the probability for each student that they would be admitted and then visualize the results on a scatter plot.\n",
        "\n",
        "\n",
        "**Exercise Start**\n",
        "\n",
        "<img width=\"100\" alt=\"creating a repo\" src=\"https://drive.google.com/uc?export=view&id=1E8tR7B9YYUXsU_rddJAyq0FrM0MSelxZ\">\n",
        "\n",
        "\n",
        "- Use the **LogisticRegression** method **predict_proba** to return the predicted probabilities for the data in the **gpa** column. Assign the returned probabilities to **pred_probs**.\n",
        "\n",
        "- Create and display a scatter plot using the [Matplotlib scatter](http://matplotlib.org/api/pyplot_api.html#matplotlib.pyplot.scatter) function where:\n",
        "  - the x-axis is the values in the **gpa** column,\n",
        "  - the y-axis is the **probability** of being classified as label 1.\n",
        "\n"
      ]
    },
    {
      "metadata": {
        "id": "B-R8imA3Cc2x",
        "colab_type": "code",
        "outputId": "55826b45-47eb-496d-ee9e-2a9410ffb0bf",
        "colab": {
          "base_uri": "https://localhost:8080/",
          "height": 361
        }
      },
      "cell_type": "code",
      "source": [
        "import pandas as pd\n",
        "import matplotlib.pyplot as plt\n",
        "\n",
        "pred_probs = model.predict_proba(admissions[[\"gpa\"]])\n",
        "X = admissions[['gpa']]\n",
        "y = pred_probs[:,1]\n",
        "plt.scatter(X.values,y)\n",
        "plt.xlabel('GPA')\n",
        "plt.ylabel('Probabilities')\n",
        "\n",
        "plt.show()"
      ],
      "execution_count": 0,
      "outputs": [
        {
          "output_type": "display_data",
          "data": {
            "image/png": "[encoded data removed]",
            "text/plain": [
              "<matplotlib.figure.Figure at 0x7f41dd3210b8>"
            ]
          },
          "metadata": {
            "tags": []
          }
        }
      ]
    },
    {
      "metadata": {
        "id": "-ddVEF6eITrF",
        "colab_type": "text"
      },
      "cell_type": "markdown",
      "source": [
        "## 1.6 - Predict labels\n"
      ]
    },
    {
      "metadata": {
        "id": "GSqKRALwC1TD",
        "colab_type": "text"
      },
      "cell_type": "markdown",
      "source": [
        "\n",
        "You'll notice that the **scatter plot** suggests a **linear relationship** between the **gpa** values and the **probability** of being admitted. This is because logistic regression is really just an adapted version of linear regression for classification problems. Both logistic and linear regression are used to capture linear relationships between the independent variables and the dependent variable.\n",
        "\n",
        "Let's now use the **predict** method to return the label predictions for each row in our training dataset.\n",
        "\n",
        "**Exercise Start**\n",
        "\n",
        "<img width=\"100\" alt=\"creating a repo\" src=\"https://drive.google.com/uc?export=view&id=1E8tR7B9YYUXsU_rddJAyq0FrM0MSelxZ\">\n",
        "\n",
        "- Use the **LogisticRegression** method [predict](http://scikit-learn.org/stable/modules/generated/sklearn.linear_model.LogisticRegression.html#sklearn.linear_model.LogisticRegression.predict) to return the predicted for each label in the training set.\n",
        "  - The parameter for the **predict** method matches that of the **predict_proba** method:\n",
        "    - X: rows of data to use for prediction.\n",
        "  - Assign the result to **fitted_labels.**\n",
        "-  Create and display a scatter plot using the [Matplotlib scatter](http://matplotlib.org/api/pyplot_api.html#matplotlib.pyplot.scatter) function where:\n",
        "  - the x-axis is the values in the **gpa** column,\n",
        "  - the y-axis is the **fitted_labels** variable.\n"
      ]
    },
    {
      "metadata": {
        "id": "Zjcg2QInDqbV",
        "colab_type": "code",
        "outputId": "6deb0822-9d45-4092-8fde-166bdafb65b3",
        "colab": {
          "base_uri": "https://localhost:8080/",
          "height": 361
        }
      },
      "cell_type": "code",
      "source": [
        "fitted_labels = model.predict(admissions[[\"gpa\"]])\n",
        "X = admissions[['gpa']]\n",
        "y = fitted_labels\n",
        "plt.scatter(X.values,y)\n",
        "plt.xlabel('GPA')\n",
        "plt.ylabel('Probabilities')\n",
        "\n",
        "plt.show()"
      ],
      "execution_count": 0,
      "outputs": [
        {
          "output_type": "display_data",
          "data": {
            "image/png": "[encoded data removed]",
            "text/plain": [
              "<matplotlib.figure.Figure at 0x7f41d7a07ef0>"
            ]
          },
          "metadata": {
            "tags": []
          }
        }
      ]
    },
    {
      "metadata": {
        "id": "mNAMPvaKITrK",
        "colab_type": "text"
      },
      "cell_type": "markdown",
      "source": [
        "# 2 - Introduction to evaluating binary classifiers\n",
        "\n"
      ]
    },
    {
      "metadata": {
        "id": "HB8Gm2fvLdmY",
        "colab_type": "text"
      },
      "cell_type": "markdown",
      "source": [
        "\n",
        "In the previous section, we learned about **classification**, logistic regression, and how to use **scikit-learn** to fit a **logistic regression** model to a dataset on graduate school admissions. We'll continue to work with the dataset.\n",
        "\n",
        "\n",
        "**Exercise Start**\n",
        "\n",
        "<img width=\"100\" alt=\"creating a repo\" src=\"https://drive.google.com/uc?export=view&id=1E8tR7B9YYUXsU_rddJAyq0FrM0MSelxZ\">\n",
        "\n",
        "\n",
        "\n",
        "- Use the **LogisticRegression** method **predict** to return the label for each observation in the dataset, **admissions**. Assign the returned list to **labels**.\n",
        "- Add a new column to the **admissions** Dataframe named **predicted_label** that contains the values from **labels**.\n",
        "- Use the **Series** method **value_counts** and the print function to display the distribution of the values in the **predicted_label** column.\n",
        "- Use the **Dataframe** method **head** and the print function to display the first 5 rows in **admissions**."
      ]
    },
    {
      "metadata": {
        "id": "1Rj7vvFfGfmQ",
        "colab_type": "code",
        "outputId": "9031afda-2de0-4528-dd31-5f4bf8c8a2f5",
        "colab": {
          "base_uri": "https://localhost:8080/",
          "height": 255
        }
      },
      "cell_type": "code",
      "source": [
        "import pandas as pd\n",
        "\n",
        "labels = model.predict(admissions[[\"gpa\"]])\n",
        "admissions[\"predicted_label\"] = labels\n",
        "print(pd.value_counts(admissions[\"predicted_label\"]))\n",
        "admissions.head()"
      ],
      "execution_count": 0,
      "outputs": [
        {
          "output_type": "stream",
          "text": [
            "0    598\n",
            "1     46\n",
            "Name: predicted_label, dtype: int64\n"
          ],
          "name": "stdout"
        },
        {
          "output_type": "execute_result",
          "data": {
            "text/html": [
              "<div>\n",
              "<style scoped>\n",
              "    .dataframe tbody tr th:only-of-type {\n",
              "        vertical-align: middle;\n",
              "    }\n",
              "\n",
              "    .dataframe tbody tr th {\n",
              "        vertical-align: top;\n",
              "    }\n",
              "\n",
              "    .dataframe thead th {\n",
              "        text-align: right;\n",
              "    }\n",
              "</style>\n",
              "<table border=\"1\" class=\"dataframe\">\n",
              "  <thead>\n",
              "    <tr style=\"text-align: right;\">\n",
              "      <th></th>\n",
              "      <th>admit</th>\n",
              "      <th>gpa</th>\n",
              "      <th>gre</th>\n",
              "      <th>predicted_label</th>\n",
              "    </tr>\n",
              "  </thead>\n",
              "  <tbody>\n",
              "    <tr>\n",
              "      <th>0</th>\n",
              "      <td>0</td>\n",
              "      <td>3.177277</td>\n",
              "      <td>594.102992</td>\n",
              "      <td>0</td>\n",
              "    </tr>\n",
              "    <tr>\n",
              "      <th>1</th>\n",
              "      <td>0</td>\n",
              "      <td>3.412655</td>\n",
              "      <td>631.528607</td>\n",
              "      <td>0</td>\n",
              "    </tr>\n",
              "    <tr>\n",
              "      <th>2</th>\n",
              "      <td>0</td>\n",
              "      <td>2.728097</td>\n",
              "      <td>553.714399</td>\n",
              "      <td>0</td>\n",
              "    </tr>\n",
              "    <tr>\n",
              "      <th>3</th>\n",
              "      <td>0</td>\n",
              "      <td>3.093559</td>\n",
              "      <td>551.089985</td>\n",
              "      <td>0</td>\n",
              "    </tr>\n",
              "    <tr>\n",
              "      <th>4</th>\n",
              "      <td>0</td>\n",
              "      <td>3.141923</td>\n",
              "      <td>537.184894</td>\n",
              "      <td>0</td>\n",
              "    </tr>\n",
              "  </tbody>\n",
              "</table>\n",
              "</div>"
            ],
            "text/plain": [
              "   admit       gpa         gre  predicted_label\n",
              "0      0  3.177277  594.102992                0\n",
              "1      0  3.412655  631.528607                0\n",
              "2      0  2.728097  553.714399                0\n",
              "3      0  3.093559  551.089985                0\n",
              "4      0  3.141923  537.184894                0"
            ]
          },
          "metadata": {
            "tags": []
          },
          "execution_count": 10
        }
      ]
    },
    {
      "metadata": {
        "id": "F0lz2_SPGxTJ",
        "colab_type": "text"
      },
      "cell_type": "markdown",
      "source": [
        "## 2.1   Accuracy\n"
      ]
    },
    {
      "metadata": {
        "id": "ohnI2nxELxDy",
        "colab_type": "text"
      },
      "cell_type": "markdown",
      "source": [
        "\n",
        "The **admissions** Dataframe now contains the predicted value for that row, in the **predicted_label** column, and the actual value for that row, in the **admit** column. This format makes it easier for us to calculate how effective the model was on the training data. The simplest way to determine the effectiveness of a classification model is **prediction accuracy**. Accuracy helps us answer the question:\n",
        "\n",
        "- **What fraction of the predictions were correct (actual label matched predicted label)**?\n",
        "\n",
        "\n",
        "Prediction accuracy boils down to the number of labels that were correctly predicted divided by the total number of observations:\n",
        "\n",
        "$$Accuracy=\\frac{\\text{#correct predictions}}{\\text{#observations}}$$\n",
        "\n",
        "\n",
        "In **logistic regression**, recall that the model's output is a probability between **0** and **1**. To decide who gets admitted, we set a threshold and accept all of the students where their computed probability exceeds that threshold. This threshold is called the **discrimination threshold** and **scikit-learn** sets it to 0.5 by default when predicting labels. If the predicted probability is greater than 0.5, the label for that observation is 1. If it is instead less than 0.5, the label for that observation is 0.\n",
        "\n",
        "An accuracy of 1.0 means that the model predicted 100% of admissions correctly for the given discrimination threshold. An accuracy of 0.2 means that the model predicted 20% of the admissions correctly. Let's calculate the accuracy for the predictions the **logistic regression** model made.\n",
        "\n",
        "\n",
        "**Exercise Start**\n",
        "\n",
        "<img width=\"100\" alt=\"creating a repo\" src=\"https://drive.google.com/uc?export=view&id=1E8tR7B9YYUXsU_rddJAyq0FrM0MSelxZ\">\n",
        "\n",
        "\n",
        "- Rename the **admit** column from the **admissions** Dataframe to **actual_label** so it's more clear which column contains the predicted labels (**predicted_label**) and which column contains the actual labels (**actual_label**).\n",
        "- Compare the **predicted_label** column with the **actual_label** column.\n",
        "  - Use a double equals sign (**==**) to compare the two Series objects and assign the resulting **Series** object to **matches**.\n",
        "- Use conditional filtering to filter **admissions** to just the rows where matches is **True**. Assign the resulting Dataframe to **correct_predictions**.\n",
        "- Display the first 5 rows in **correct_predictions** to make sure the values in the **predicted_label** and **actual_label** columns are equal.\n",
        "- Calculate the **accuracy** and assign the resulting float value to **accuracy**.\n",
        "- Display accuracy using the print function."
      ]
    },
    {
      "metadata": {
        "id": "TICnUgw9PFly",
        "colab_type": "code",
        "outputId": "7d0df00b-95fa-4fba-ab76-fa36112dfac9",
        "colab": {
          "base_uri": "https://localhost:8080/",
          "height": 34
        }
      },
      "cell_type": "code",
      "source": [
        "import pandas as pd\n",
        "\n",
        "admissions = admissions.rename(columns={'admit': 'actual_label'})\n",
        "#admissions.info()\n",
        "matches = admissions[\"predicted_label\"] == admissions[\"actual_label\"]\n",
        "correct_predictions = admissions[matches]\n",
        "correct_predictions.head()\n",
        "accuracy = len(correct_predictions.index)/len(admissions.index)\n",
        "print(accuracy)\n"
      ],
      "execution_count": 0,
      "outputs": [
        {
          "output_type": "stream",
          "text": [
            "0.6459627329192547\n"
          ],
          "name": "stdout"
        }
      ]
    },
    {
      "metadata": {
        "id": "LYHJh_TjGxTO",
        "colab_type": "text"
      },
      "cell_type": "markdown",
      "source": [
        "## 2.2 -  Binary classification outcomes\n"
      ]
    },
    {
      "metadata": {
        "id": "qwFAJG_hSxHl",
        "colab_type": "text"
      },
      "cell_type": "markdown",
      "source": [
        "\n",
        "\n",
        "It looks like the raw accuracy is around **64.6%** which is better than randomly guessing the label (which would result in around a **50% accuracy**). Calculating the accuracy of a model on the dataset used for training is a useful **initial step just to make sure the model at least beats randomly** assigning a label for each observation. However, **prediction accuracy doesn't tell us much more**.\n",
        "\n",
        "The accuracy doesn't tell us how the model performs on data it wasn't trained on. A model that returns a 100% accuracy when evaluated on it's training set doesn't tell us how well the model works on data it's never seen before (and wasn't trained on). Accuracy also doesn't help us discriminate between the different types of outcomes a binary classification model can make. In a later section we'll learn how to evaluate a model's effectiveness on new, unseen data. In this section, we'll focus on the principles of evaluating binary classification models by testing our model's effectiveness on the training data.\n",
        "\n",
        "To start, let's discuss the four different outcomes of a binary classification model:\n",
        "\n",
        "| Prediction   | Observation       |         |\n",
        "|--------------|---------------------|---------------------|\n",
        "|  |   Admitted (1)      |                    Rejected (0) |\n",
        "| Admitted (1) | True Positive (TP)  | False Positive (FP) |\n",
        "| Rejected (0) | False Negative (FN) | True Negative (TN)  |\n",
        "\n",
        "By segmenting a model's predictions into these different outcome categories, we can start to think about other measures of effectiveness that give us more granularity than simple accuracy.\n",
        "\n",
        "We can define these outcomes as:\n",
        "\n",
        "- **True Positive** - The model correctly predicted that the student would be admitted.\n",
        "\n",
        "    - Said another way, the model predicted that the **label** would be **Positive**, and that **ended up** being **True**.\n",
        "    - In our case, Positive refers to being admitted and maps to the label 1 in the dataset.\n",
        "    - For this dataset, a **true positive** is whenever **predicted_label** is **1** and **actual_label** is **1**.\n",
        "- **True Negative** - The model correctly predicted that the student would be rejected.\n",
        "\n",
        "    - Said another way, the model predicted that the **label** would be **Negative**, and that **ended** up being **True**.\n",
        "    - In our case, Negative refers to being rejected and maps to the label 0 in the dataset.\n",
        "    - For this dataset, a **true negative** is whenever **predicted_label** is **0** and **actual_label** is **0**.\n",
        "- **False Positive** - The model incorrectly predicted that the student would be admitted even though the student was actually rejected.\n",
        "\n",
        "    - Said another way, the model predicted that the label would be Positive, but that was False (the actual label was False).\n",
        "    - For this dataset, a false positive is whenever **predicted_label** is **1** but the **actual_label** is **0**.\n",
        "- **False Negative** - The model incorrectly predicted that the student would be rejected even though the student was actually admitted.\n",
        "\n",
        "    - Said another way, the model predicted that the would be Negative, but that was False (the actual value was True).\n",
        "    - For this dataset, a false negative is whenever **predicted_label** is **0** but the **actual_label** is **1**.\n",
        "    \n",
        "Let's calculate the number of observations that fall into some of these outcome categories.\n",
        "\n",
        "\n",
        "**Exercise Start**\n",
        "\n",
        "<img width=\"100\" alt=\"creating a repo\" src=\"https://drive.google.com/uc?export=view&id=1E8tR7B9YYUXsU_rddJAyq0FrM0MSelxZ\">\n",
        "\n",
        "\n",
        "- Extract all of the rows where **predicted_label** and **actual_label** both equal **1**. Then, calculate the number of **true positives** and assign to **true_positives**.\n",
        "- Extract all of the rows where **predicted_label** and **actual_label** both equal **0**. Then, calculate the number of **true negatives** and assign to **true_negatives**.\n",
        "- Display both **true_positives** and **true_negatives**."
      ]
    },
    {
      "metadata": {
        "id": "cvlAWXaAdYjY",
        "colab_type": "code",
        "outputId": "241bd1e7-8c43-4b33-9880-627a7a6b978e",
        "colab": {
          "base_uri": "https://localhost:8080/",
          "height": 221
        }
      },
      "cell_type": "code",
      "source": [
        "import pandas as pd\n",
        "\n",
        "print(admissions.info())\n",
        "matches1 = (admissions[\"predicted_label\"] == 1) & (admissions[\"actual_label\"] == 1)\n",
        "correct_predictions = admissions[matches1]\n",
        "true_positives = len(correct_predictions.index)\n",
        "print(true_positives)\n",
        "\n",
        "matches2 = (admissions[\"predicted_label\"] == 0) & (admissions[\"actual_label\"] == 0)\n",
        "correct_predictions = admissions[matches2]\n",
        "true_negatives = len(correct_predictions.index)\n",
        "print(true_negatives)\n"
      ],
      "execution_count": 0,
      "outputs": [
        {
          "output_type": "stream",
          "text": [
            "<class 'pandas.core.frame.DataFrame'>\n",
            "RangeIndex: 644 entries, 0 to 643\n",
            "Data columns (total 4 columns):\n",
            "actual_label       644 non-null int64\n",
            "gpa                644 non-null float64\n",
            "gre                644 non-null float64\n",
            "predicted_label    644 non-null int64\n",
            "dtypes: float64(2), int64(2)\n",
            "memory usage: 20.2 KB\n",
            "None\n",
            "31\n",
            "385\n"
          ],
          "name": "stdout"
        }
      ]
    },
    {
      "metadata": {
        "id": "ErZVqMlFGxTS",
        "colab_type": "text"
      },
      "cell_type": "markdown",
      "source": [
        "## 2.3 -  Sensitivity\n"
      ]
    },
    {
      "metadata": {
        "id": "EgG9TGibdspE",
        "colab_type": "text"
      },
      "cell_type": "markdown",
      "source": [
        "\n",
        "\n",
        "Let's now look at a few measures that are much more insightful than simple accuracy. Let's start with **sensitivity**:\n",
        "\n",
        "- **Sensitivity** or **True Positive Rate** - The proportion of applicants that were correctly admitted:\n",
        "\n",
        "$$TPR=\\frac{\\text{#true positives}}{\\text{#true positives + #false negatives}}$$\n",
        "\n",
        "\n",
        "From all the students that should have been admitted (True Positives + False Negatives), what fraction did the model correctly admit (True Positives)? More generally, this measure helps us answer the question:\n",
        "\n",
        "- **How effective is this model at identifying positive outcomes?**\n",
        "\n",
        "In our case, the positive outcome (label of 1) is admitting a student. If the True Positive Rate is low, it means that the model isn't effective at catching positive cases. **For certain problems, high sensitivity is incredibly important.** If we're building a model to predict which patients have cancer, every patient that is missed by the model could mean a loss of life. We want a **highly sensitive** model that is able to \"catch\" all of the positive cases (in this case, the positive case is a patient with cancer).\n",
        "\n",
        "Let's calculate the sensitivity for the model we're working with.\n",
        "\n",
        "**Exercise Start**\n",
        "\n",
        "<img width=\"100\" alt=\"creating a repo\" src=\"https://drive.google.com/uc?export=view&id=1E8tR7B9YYUXsU_rddJAyq0FrM0MSelxZ\">\n",
        "\n",
        "\n",
        "- Calculate the number of **false negatives** (where the model predicted rejected but the student was actually admitted) and assign to **false_negatives**.\n",
        "- Calculate the **sensitivity** and assign the computed value to **sensitivity**.\n",
        "- Display **sensitivity**."
      ]
    },
    {
      "metadata": {
        "id": "s0ilAnoefsDk",
        "colab_type": "code",
        "outputId": "3df7751d-4a7d-4315-9273-c8abe54cd0eb",
        "colab": {
          "base_uri": "https://localhost:8080/",
          "height": 34
        }
      },
      "cell_type": "code",
      "source": [
        "matches = (admissions[\"predicted_label\"] == 0) & (admissions[\"actual_label\"] == 1)\n",
        "correct_predictions = admissions[matches]\n",
        "false_negatives = len(correct_predictions.index)\n",
        "sensitivity = true_positives/(true_positives + false_negatives)\n",
        "print(sensitivity)"
      ],
      "execution_count": 0,
      "outputs": [
        {
          "output_type": "stream",
          "text": [
            "0.12704918032786885\n"
          ],
          "name": "stdout"
        }
      ]
    },
    {
      "metadata": {
        "id": "4fEj13JQGxTX",
        "colab_type": "text"
      },
      "cell_type": "markdown",
      "source": [
        "## 2.4 - Specificity\n",
        "\n",
        "Looks like the sensitivity of the model is around **12.7%** and only about 1 in 8 students that should have been admitted were actually admitted. In the context of predicting student admissions, this probably isn't too bad of a thing. Graduate schools can only admit a select number of students into their programs and by definition they end up rejecting many qualified students that would have succeeded.\n",
        "\n",
        "In the healthcare context, however, low sensitivity could mean a severe loss of life. If a classification model is only catching **12.7%** of positive cases for an illness, then around 7 of 8 people are going undiagnosed (being classified as false negatives). Hopefully you're beginning to acquire a sense for the tradeoffs predictive models make and the importance of understanding the various measures.\n",
        "\n",
        "Let's now learn about **specificity**:\n",
        "\n",
        "- **Specificity** or **True Negative Rate** - The proportion of applicants that were correctly rejected:\n",
        "\n",
        "$$TNR=\\frac{\\text{#true negatives}}{\\text{#true negatives + #false positives}}$$\n",
        "\n",
        "This helps us answer the question:\n",
        "\n",
        "How effective is this model at identifying negative outcomes?\n",
        "In our case, the specificity tells us the proportion of applicants who should be rejected (**actual_label** equal to 0, which consists of False Positives + True Negatives) that were correctly rejected (just True Negatives). **A high specificity means that the model is really good at predicting which applicants should be rejected**.\n",
        "\n",
        "Let's calculate the specificity of our model.\n",
        "\n",
        "**Exercise Start**\n",
        "\n",
        "<img width=\"100\" alt=\"creating a repo\" src=\"https://drive.google.com/uc?export=view&id=1E8tR7B9YYUXsU_rddJAyq0FrM0MSelxZ\">\n",
        "\n",
        "\n",
        "- Calculate the number of **false positives** (where the model predicted admitted but the student was actually rejected) and assign to **false_positives**.\n",
        "- Calculate the **specificity** and assign the computed value to **specificity.**\n",
        "- Display **specificity**."
      ]
    },
    {
      "metadata": {
        "id": "UA2PLDLAs-DJ",
        "colab_type": "code",
        "outputId": "eb0a39d9-ec8c-4e67-ab0f-abc9dc0c7368",
        "colab": {
          "base_uri": "https://localhost:8080/",
          "height": 34
        }
      },
      "cell_type": "code",
      "source": [
        "matches = (admissions[\"predicted_label\"] == 1) & (admissions[\"actual_label\"] == 0)\n",
        "correct_predictions = admissions[matches]\n",
        "false_positives = len(correct_predictions.index)\n",
        "specificity = true_negatives/(true_negatives + false_positives)\n",
        "print(specificity)"
      ],
      "execution_count": 0,
      "outputs": [
        {
          "output_type": "stream",
          "text": [
            "0.9625\n"
          ],
          "name": "stdout"
        }
      ]
    },
    {
      "metadata": {
        "id": "3sjEe825GxTa",
        "colab_type": "text"
      },
      "cell_type": "markdown",
      "source": [
        "## 2.5 -  Next steps\n"
      ]
    },
    {
      "metadata": {
        "id": "toODOr8AtI64",
        "colab_type": "text"
      },
      "cell_type": "markdown",
      "source": [
        "\n",
        "\n",
        "It looks like the specificity of the model is **96.25%**. This means that **the model is really good at knowing which applicants to reject**. Since around only 7% of applicants were accepted that applied, it's important that the model reject people correctly who wouldn't have otherwise been accepted.\n",
        "\n",
        "In this mission, we learned about some of the different ways of evaluating how well a binary classification model performs. The different measures we learned about have very similar names and it's easy to confuse them. Don't fret! The important takeaway is the ability to frame the question you want to answer and working backwards from that to formulate the correct calculation.\n",
        "\n",
        "If you want to know how well a binary classification model is at catching positive cases, you should have the intuition to divide the correctly predicted positive cases by all actually positive cases. There are 2 outcomes associated with an admitted student (positive case), a false negative and a true positive. Therefore, by dividing the number of true positives by the sum of false negatives and true positives, you'll have the proportion corresponding to the model's effectiveness of identifying positive cases. While this proportion is referred to as the sensitivity, the word itself is secondary to the concept and being able to work backwards to the formula!\n",
        "\n",
        "These measures are just a starting point, however, and aren't super useful by themselves. In the next section, we'll dive into **cross-validation**, where we'll evaluate our model's accuracy on new data that it wasn't trained on. In addition, we'll explore how varying the discrimination threshold affects the measures we learned about in this lesson. These important techniques help us gain a much more complete understanding of a classification model's performance."
      ]
    },
    {
      "metadata": {
        "id": "NRv5iWbNuPsh",
        "colab_type": "text"
      },
      "cell_type": "markdown",
      "source": [
        "# 3.0 - Multiclass classification\n",
        "\n"
      ]
    },
    {
      "metadata": {
        "id": "-HyiZmNLFbfe",
        "colab_type": "text"
      },
      "cell_type": "markdown",
      "source": [
        "## 3.1 - Introduction to the data\n"
      ]
    },
    {
      "metadata": {
        "id": "xpoQ3eg4Fp4D",
        "colab_type": "text"
      },
      "cell_type": "markdown",
      "source": [
        "The dataset we will be working with contains information on various cars. For each car we have information about the technical aspects of the vehicle such as the motor's displacement, the weight of the car, the miles per gallon, and how fast the car accelerates. Using this information we will predict the origin of the vehicle, either North America, Europe, or Asia. We can see, that unlike our previous classification datasets, we have three categories to choose from, making our task slightly more challenging.\n",
        "\n",
        "Here's a preview of the data:\n",
        "\n",
        "```python\n",
        "18.0   8   307.0      130.0      3504.      12.0   70  1    \"chevrolet chevelle malibu\"\n",
        "15.0   8   350.0      165.0      3693.      11.5   70  1    \"buick skylark 320\"\n",
        "18.0   8   318.0      150.0      3436.      11.0   70  1    \"plymouth satellite\"\n",
        "```\n",
        "\n",
        "The dataset is hosted by the **University of California Irvine** on their machine learning [repository](https://archive.ics.uci.edu/ml/datasets/Auto+MPG). As a side note, the UCI Machine Learning repository contains many small datasets which are useful when getting your hands dirty with machine learning.\n",
        "\n",
        "You'll notice that the **Data Folder** contains a few different files. We'll be working with **auto-mpg.data**, which omits the 8 rows containing missing values for fuel efficiency (mpg column). We've converted this data into a CSV file named **auto.csv** for you.\n",
        "\n",
        "Here are the columns in the dataset:\n",
        "\n",
        "- **mpg** -- Miles per gallon, Continuous.\n",
        "- **cylinders** -- Number of cylinders in the motor, Integer, Ordinal, and Categorical.\n",
        "- **displacement** -- Size of the motor, Continuous.\n",
        "- **horsepower** -- Horsepower produced, Continuous.\n",
        "- **weight** -- Weights of the car, Continuous.\n",
        "- **acceleration** -- Acceleration, Continuous.\n",
        "- **year** -- Year the car was built, Integer and Categorical.\n",
        "- **origin** -- Integer and Categorical. 1: North America, 2: Europe, 3: Asia.\n",
        "- **car_name** -- Name of the car.\n",
        "\n",
        "**Exercise Start**\n",
        "\n",
        "<img width=\"100\" alt=\"creating a repo\" src=\"https://drive.google.com/uc?export=view&id=1E8tR7B9YYUXsU_rddJAyq0FrM0MSelxZ\">\n",
        "\n",
        "- Import the Pandas library and read **auto.csv** into a Dataframe named **cars**.\n",
        "- Use the **Series.unique()** method to assign the unique elements in the column **origin** to **unique_regions**. Then use the **print** function to display **unique_regions.**"
      ]
    },
    {
      "metadata": {
        "id": "cKKTMfzHHqr2",
        "colab_type": "code",
        "outputId": "55093b5e-de12-4be6-e03a-0e3ebe4bc01b",
        "colab": {
          "base_uri": "https://localhost:8080/",
          "height": 34
        }
      },
      "cell_type": "code",
      "source": [
        "import pandas as pd\n",
        " \n",
        "cars = pd.read_csv(\"auto.csv\", low_memory=False)\n",
        "unique_regions = cars[\"origin\"].unique()\n",
        "print(unique_regions)\n"
      ],
      "execution_count": 0,
      "outputs": [
        {
          "output_type": "stream",
          "text": [
            "[1 3 2]\n"
          ],
          "name": "stdout"
        }
      ]
    },
    {
      "metadata": {
        "id": "RIvksHd9Io_3",
        "colab_type": "text"
      },
      "cell_type": "markdown",
      "source": [
        "## 3.2 Dummy Variables"
      ]
    },
    {
      "metadata": {
        "id": "5ZayyljpI0r_",
        "colab_type": "text"
      },
      "cell_type": "markdown",
      "source": [
        "In previous classification sections, **categorical variables** have been represented in the dataset using **integer values** (like 0 and 1) for us already. In many cases, like with this dataset, you'll have to create numeric representation of categorical values yourself. For this dataset, **categorical variables exist** in three columns, **cylinders**, **year**, and **origin**. The **cylinders** and **year** columns must be converted to numeric values so we can use them to predict label **origin**. Even though the column **year** is a number, we’re going to treat them like categories. The year 71 is unlikely to relate to the year 70 in the same way those two numbers do numerically, but rather just as two different labels. In these instances, it is always safer to treat discrete values as categorical variables.\n",
        "\n",
        "We must use **dummy variables** for columns containing categorical values. Whenever we have more than 2 categories, we need to create more columns to represent the categories. Since we have 5 different categories of cylinders, we could use 3, 4, 5, 6, and 8 to represent the different categories. We can split the column into separate binary columns:\n",
        "\n",
        "\n",
        "- **cyl_3** -- Does the car have 3 cylinders? 0 if **False**, 1 if **True.**\n",
        "- **cyl_4** -- Does the car have 4 cylinders? 0 if **False**, 1 if **True.**\n",
        "- **cyl_5** -- Does the car have 5 cylinders? 0 if **False**, 1 if **True.**\n",
        "- **cyl_6** -- Does the car have 6 cylinders? 0 if **False**, 1 if **True.**\n",
        "- **cyl_8** -- Does the car have 8 cylinders? 0 if **False**, 1 if **True.**\n",
        "\n",
        "\n",
        "We can use the [pandas.get_dummies()](http://pandas.pydata.org/pandas-docs/stable/generated/pandas.get_dummies.html) function to return a Dataframe containing binary columns from the values in the **cylinders** column. In addition, if we set the prefix parameter to **cyl**, Pandas will prepend the column names to match the style we'd like:\n",
        "\n",
        "```python\n",
        "18.0   8   307.0      130.0      3504.      12.0   70  1    \"chevrolet chevelle malibu\"\n",
        "15.0   8   350.0      165.0      3693.      11.5   70  1    \"buick skylark 320\"\n",
        "18.0   8   318.0      150.0      3436.      11.0   70  1    \"plymouth satellite\"\n",
        "dummy_df = pd.get_dummies(cars[\"cylinders\"], prefix=\"cyl\")\n",
        "```\n",
        "\n",
        "We then use the [pandas.concat()](http://pandas.pydata.org/pandas-docs/stable/generated/pandas.concat.html) function to add the columns from this Dataframe back to cars:\n",
        "\n",
        "```python\n",
        "cars = pd.concat([cars, dummy_df], axis=1)\n",
        "```\n",
        "\n",
        "Now it's your turn! Repeat the same process for the **year** column.\n",
        "\n",
        "**Exercise Start**\n",
        "\n",
        "<img width=\"100\" alt=\"creating a repo\" src=\"https://drive.google.com/uc?export=view&id=1E8tR7B9YYUXsU_rddJAyq0FrM0MSelxZ\">\n",
        "\n",
        "- Use the **pandas.get_dummies()** function to create dummy values from the **year** column.\n",
        "  - Use the **prefix** attribute to prepend **year** to each of the resulting column names.\n",
        "  - Assign the resulting Dataframe to **dummy_years**.\n",
        "- Use the **pandas.concat()** function to concatenate the columns from **dummy_years** to **cars**.\n",
        "- Use the **DataFrame.drop()** method to drop the **year** and **cylinders** columns from **cars.**\n",
        "- Display the first 5 rows of the new cars Dataframe to confirm."
      ]
    },
    {
      "metadata": {
        "id": "1gca6nHCLNOA",
        "colab_type": "code",
        "outputId": "c810d84a-067f-4961-9a61-286ad1aca610",
        "colab": {
          "base_uri": "https://localhost:8080/",
          "height": 253
        }
      },
      "cell_type": "code",
      "source": [
        "dummy_cylinders = pd.get_dummies(cars[\"cylinders\"], prefix=\"cyl\")\n",
        "cars = pd.concat([cars, dummy_cylinders], axis=1)\n",
        "cars.head()\n",
        "\n",
        "# put your code here\n",
        "dummy_years=pd.get_dummies(cars[\"year\"], prefix=\"year\")\n",
        "cars = pd.concat([cars, dummy_years], axis=1 )\n",
        "cars.drop([\"year\", \"cylinders\"], axis=1,  inplace = True)\n",
        "cars.head()"
      ],
      "execution_count": 0,
      "outputs": [
        {
          "output_type": "execute_result",
          "data": {
            "text/html": [
              "<div>\n",
              "<style scoped>\n",
              "    .dataframe tbody tr th:only-of-type {\n",
              "        vertical-align: middle;\n",
              "    }\n",
              "\n",
              "    .dataframe tbody tr th {\n",
              "        vertical-align: top;\n",
              "    }\n",
              "\n",
              "    .dataframe thead th {\n",
              "        text-align: right;\n",
              "    }\n",
              "</style>\n",
              "<table border=\"1\" class=\"dataframe\">\n",
              "  <thead>\n",
              "    <tr style=\"text-align: right;\">\n",
              "      <th></th>\n",
              "      <th>mpg</th>\n",
              "      <th>displacement</th>\n",
              "      <th>horsepower</th>\n",
              "      <th>weight</th>\n",
              "      <th>acceleration</th>\n",
              "      <th>origin</th>\n",
              "      <th>cyl_3</th>\n",
              "      <th>cyl_4</th>\n",
              "      <th>cyl_5</th>\n",
              "      <th>cyl_6</th>\n",
              "      <th>...</th>\n",
              "      <th>year_73</th>\n",
              "      <th>year_74</th>\n",
              "      <th>year_75</th>\n",
              "      <th>year_76</th>\n",
              "      <th>year_77</th>\n",
              "      <th>year_78</th>\n",
              "      <th>year_79</th>\n",
              "      <th>year_80</th>\n",
              "      <th>year_81</th>\n",
              "      <th>year_82</th>\n",
              "    </tr>\n",
              "  </thead>\n",
              "  <tbody>\n",
              "    <tr>\n",
              "      <th>0</th>\n",
              "      <td>18.0</td>\n",
              "      <td>307.0</td>\n",
              "      <td>130.0</td>\n",
              "      <td>3504.0</td>\n",
              "      <td>12.0</td>\n",
              "      <td>1</td>\n",
              "      <td>0</td>\n",
              "      <td>0</td>\n",
              "      <td>0</td>\n",
              "      <td>0</td>\n",
              "      <td>...</td>\n",
              "      <td>0</td>\n",
              "      <td>0</td>\n",
              "      <td>0</td>\n",
              "      <td>0</td>\n",
              "      <td>0</td>\n",
              "      <td>0</td>\n",
              "      <td>0</td>\n",
              "      <td>0</td>\n",
              "      <td>0</td>\n",
              "      <td>0</td>\n",
              "    </tr>\n",
              "    <tr>\n",
              "      <th>1</th>\n",
              "      <td>15.0</td>\n",
              "      <td>350.0</td>\n",
              "      <td>165.0</td>\n",
              "      <td>3693.0</td>\n",
              "      <td>11.5</td>\n",
              "      <td>1</td>\n",
              "      <td>0</td>\n",
              "      <td>0</td>\n",
              "      <td>0</td>\n",
              "      <td>0</td>\n",
              "      <td>...</td>\n",
              "      <td>0</td>\n",
              "      <td>0</td>\n",
              "      <td>0</td>\n",
              "      <td>0</td>\n",
              "      <td>0</td>\n",
              "      <td>0</td>\n",
              "      <td>0</td>\n",
              "      <td>0</td>\n",
              "      <td>0</td>\n",
              "      <td>0</td>\n",
              "    </tr>\n",
              "    <tr>\n",
              "      <th>2</th>\n",
              "      <td>18.0</td>\n",
              "      <td>318.0</td>\n",
              "      <td>150.0</td>\n",
              "      <td>3436.0</td>\n",
              "      <td>11.0</td>\n",
              "      <td>1</td>\n",
              "      <td>0</td>\n",
              "      <td>0</td>\n",
              "      <td>0</td>\n",
              "      <td>0</td>\n",
              "      <td>...</td>\n",
              "      <td>0</td>\n",
              "      <td>0</td>\n",
              "      <td>0</td>\n",
              "      <td>0</td>\n",
              "      <td>0</td>\n",
              "      <td>0</td>\n",
              "      <td>0</td>\n",
              "      <td>0</td>\n",
              "      <td>0</td>\n",
              "      <td>0</td>\n",
              "    </tr>\n",
              "    <tr>\n",
              "      <th>3</th>\n",
              "      <td>16.0</td>\n",
              "      <td>304.0</td>\n",
              "      <td>150.0</td>\n",
              "      <td>3433.0</td>\n",
              "      <td>12.0</td>\n",
              "      <td>1</td>\n",
              "      <td>0</td>\n",
              "      <td>0</td>\n",
              "      <td>0</td>\n",
              "      <td>0</td>\n",
              "      <td>...</td>\n",
              "      <td>0</td>\n",
              "      <td>0</td>\n",
              "      <td>0</td>\n",
              "      <td>0</td>\n",
              "      <td>0</td>\n",
              "      <td>0</td>\n",
              "      <td>0</td>\n",
              "      <td>0</td>\n",
              "      <td>0</td>\n",
              "      <td>0</td>\n",
              "    </tr>\n",
              "    <tr>\n",
              "      <th>4</th>\n",
              "      <td>17.0</td>\n",
              "      <td>302.0</td>\n",
              "      <td>140.0</td>\n",
              "      <td>3449.0</td>\n",
              "      <td>10.5</td>\n",
              "      <td>1</td>\n",
              "      <td>0</td>\n",
              "      <td>0</td>\n",
              "      <td>0</td>\n",
              "      <td>0</td>\n",
              "      <td>...</td>\n",
              "      <td>0</td>\n",
              "      <td>0</td>\n",
              "      <td>0</td>\n",
              "      <td>0</td>\n",
              "      <td>0</td>\n",
              "      <td>0</td>\n",
              "      <td>0</td>\n",
              "      <td>0</td>\n",
              "      <td>0</td>\n",
              "      <td>0</td>\n",
              "    </tr>\n",
              "  </tbody>\n",
              "</table>\n",
              "<p>5 rows × 24 columns</p>\n",
              "</div>"
            ],
            "text/plain": [
              "    mpg  displacement  horsepower  weight  acceleration  origin  cyl_3  cyl_4  \\\n",
              "0  18.0         307.0       130.0  3504.0          12.0       1      0      0   \n",
              "1  15.0         350.0       165.0  3693.0          11.5       1      0      0   \n",
              "2  18.0         318.0       150.0  3436.0          11.0       1      0      0   \n",
              "3  16.0         304.0       150.0  3433.0          12.0       1      0      0   \n",
              "4  17.0         302.0       140.0  3449.0          10.5       1      0      0   \n",
              "\n",
              "   cyl_5  cyl_6   ...     year_73  year_74  year_75  year_76  year_77  \\\n",
              "0      0      0   ...           0        0        0        0        0   \n",
              "1      0      0   ...           0        0        0        0        0   \n",
              "2      0      0   ...           0        0        0        0        0   \n",
              "3      0      0   ...           0        0        0        0        0   \n",
              "4      0      0   ...           0        0        0        0        0   \n",
              "\n",
              "   year_78  year_79  year_80  year_81  year_82  \n",
              "0        0        0        0        0        0  \n",
              "1        0        0        0        0        0  \n",
              "2        0        0        0        0        0  \n",
              "3        0        0        0        0        0  \n",
              "4        0        0        0        0        0  \n",
              "\n",
              "[5 rows x 24 columns]"
            ]
          },
          "metadata": {
            "tags": []
          },
          "execution_count": 17
        }
      ]
    },
    {
      "metadata": {
        "id": "XGU7dwEZYUIZ",
        "colab_type": "text"
      },
      "cell_type": "markdown",
      "source": [
        "## 3.3 - Multiclass classification"
      ]
    },
    {
      "metadata": {
        "id": "7W2JjPtbZFYn",
        "colab_type": "text"
      },
      "cell_type": "markdown",
      "source": [
        "In previous sections, we explored **binary classification**, where there were only two possible categories, or classes. When we have three or more categories, we call the problem a **multiclass classification problem**. There are a few different methods of doing multiclass classification and in this section, we'll focus on the **one-versus-all method**.\n",
        "\n",
        "The **one-versus-all** method is a technique where we choose a single category as the Positive case and group the rest of the categories as the False case. **We're essentially splitting the problem into multiple binary classification problems.** For each observation, the model will then output the probability of belonging to each category.\n",
        "\n",
        "To start let's split our data into a training and test set. We've randomized the **cars** Dataframe for you already to start things off and assigned the shuffled Dataframe to **shuffled_cars**.\n",
        "\n",
        "\n",
        "**Exercise Start**\n",
        "\n",
        "<img width=\"100\" alt=\"creating a repo\" src=\"https://drive.google.com/uc?export=view&id=1E8tR7B9YYUXsU_rddJAyq0FrM0MSelxZ\">\n",
        "\n",
        "- Split the **shuffled_cars** Dataframe into two Dataframes: **train** and **test**.\n",
        "  - Assign the first 70% of the **shuffled_cars** to **train.**\n",
        "  - Assign the last 30% of the **shuffled_cars** to **test**."
      ]
    },
    {
      "metadata": {
        "id": "2iBuxy8tZsej",
        "colab_type": "code",
        "colab": {}
      },
      "cell_type": "code",
      "source": [
        "shuffled_rows = np.random.permutation(cars.index)\n",
        "shuffled_cars = cars.iloc[shuffled_rows]\n",
        "\n",
        "import numpy as np\n",
        "\n",
        "train = shuffled_cars.iloc[0:int(shuffled_cars.shape[0]*0.70)]\n",
        "test = shuffled_cars.iloc[int(shuffled_cars.shape[0]*0.70):]\n"
      ],
      "execution_count": 0,
      "outputs": []
    },
    {
      "metadata": {
        "id": "3mdQbGcRaoTI",
        "colab_type": "text"
      },
      "cell_type": "markdown",
      "source": [
        "## 3.4 - Training a multiclass logistic regression model"
      ]
    },
    {
      "metadata": {
        "id": "OIgx8OFea0Dk",
        "colab_type": "text"
      },
      "cell_type": "markdown",
      "source": [
        "In the **one-vs-all** approach, we're essentially **converting an n-class** (in our case n is 3) classification problem **into n binary classification problems**. For our case, we'll need to train 3 models:\n",
        "\n",
        "- A model where all cars built in **North America** are considered **Positive (1)** and those built in **Europe** and **Asia** are considered **Negative (0)**.\n",
        "- A model where all cars built in **Europe** are considered **Positive (1)** and those built in **North America** and **Asia** are considered **Negative (0)**.\n",
        "- A model where all cars built in **Asia** are labeled **Positive (1)** and those built in **North America** and **Europe** are considered **Negative (0)**.\n",
        "\n",
        "**Each of these models is a binary classification model** that will return a probability between 0 and 1. When we apply this model on new data, a probability value will be returned from each model (3 total). **For each observation, we choose the label corresponding to the model that predicted the highest probability.**\n",
        "\n",
        "We'll use the dummy variables we created from the **cylinders** and **year** columns to train 3 models using the LogisticRegression class from scikit-learn.\n",
        "\n",
        "**Exercise Start**\n",
        "\n",
        "<img width=\"100\" alt=\"creating a repo\" src=\"https://drive.google.com/uc?export=view&id=1E8tR7B9YYUXsU_rddJAyq0FrM0MSelxZ\">\n",
        "\n",
        "- For each value in **unique_origins**, train a **logistic regression** model with the following parameters:\n",
        "  - X: Dataframe containing just the **cylinder** & **year** binary columns.\n",
        "  - y: list (or Series) of Boolean values:\n",
        "    - **True** if observation's value for **origin** matches the current iterator variable.\n",
        "    - **False** if observation's value for **origin** doesn't match the current iterator variable.\n",
        "- Add each model to the models dictionary with the following structure:\n",
        "  - **key**: origin value (1, 2, or 3),\n",
        "  - **value**: relevant **LogistcRegression model** instance."
      ]
    },
    {
      "metadata": {
        "id": "fjMkBCjUbOdA",
        "colab_type": "code",
        "outputId": "d27cd42c-6071-4358-953d-f3dcc0f25784",
        "colab": {
          "base_uri": "https://localhost:8080/",
          "height": 207
        }
      },
      "cell_type": "code",
      "source": [
        "from sklearn.linear_model import LogisticRegression\n",
        "\n",
        "unique_origins = cars[\"origin\"].unique()\n",
        "unique_origins.sort()\n",
        "\n",
        "models = {}\n",
        "\n",
        "features = [c for c in train.columns\n",
        "            if c.startswith(\"cyl\") or c.startswith(\"year\")]\n",
        "\n",
        "for origin in unique_origins:\n",
        "  model = LogisticRegression()\n",
        "  X_train = train[features]\n",
        "  y_train = train[\"origin\"] == origin\n",
        "  \n",
        "  model.fit(X_train, y_train)\n",
        "  models[origin] = model\n",
        "print(models)"
      ],
      "execution_count": 0,
      "outputs": [
        {
          "output_type": "stream",
          "text": [
            "{1: LogisticRegression(C=1.0, class_weight=None, dual=False, fit_intercept=True,\n",
            "          intercept_scaling=1, max_iter=100, multi_class='ovr', n_jobs=1,\n",
            "          penalty='l2', random_state=None, solver='liblinear', tol=0.0001,\n",
            "          verbose=0, warm_start=False), 2: LogisticRegression(C=1.0, class_weight=None, dual=False, fit_intercept=True,\n",
            "          intercept_scaling=1, max_iter=100, multi_class='ovr', n_jobs=1,\n",
            "          penalty='l2', random_state=None, solver='liblinear', tol=0.0001,\n",
            "          verbose=0, warm_start=False), 3: LogisticRegression(C=1.0, class_weight=None, dual=False, fit_intercept=True,\n",
            "          intercept_scaling=1, max_iter=100, multi_class='ovr', n_jobs=1,\n",
            "          penalty='l2', random_state=None, solver='liblinear', tol=0.0001,\n",
            "          verbose=0, warm_start=False)}\n"
          ],
          "name": "stdout"
        }
      ]
    },
    {
      "metadata": {
        "id": "cBW4-kCId9-1",
        "colab_type": "text"
      },
      "cell_type": "markdown",
      "source": [
        "## 3.5 - Testing the models\n",
        "\n"
      ]
    },
    {
      "metadata": {
        "id": "IWKLoUCLfiAg",
        "colab_type": "text"
      },
      "cell_type": "markdown",
      "source": [
        "Now that we have a model for each category, we can run our test dataset through the models and evaluate how well they performed.\n",
        "\n",
        "**Exercise Start**\n",
        "\n",
        "<img width=\"100\" alt=\"creating a repo\" src=\"https://drive.google.com/uc?export=view&id=1E8tR7B9YYUXsU_rddJAyq0FrM0MSelxZ\">\n",
        "\n",
        "- For each **origin** value from **unique_origins**:\n",
        "  - Use the **LogisticRegression predict_proba** function to return the three lists of predicted probabilities for the **test set** and add to the **testing_probs** Dataframe."
      ]
    },
    {
      "metadata": {
        "id": "jqZuBhY_hHp2",
        "colab_type": "code",
        "colab": {}
      },
      "cell_type": "code",
      "source": [
        "testing_probs = pd.DataFrame(columns=unique_origins)\n",
        "\n",
        "features = [c for c in train.columns\n",
        "            if c.startswith(\"cyl\") or c.startswith(\"year\")]\n",
        "\n",
        "for origin in unique_origins:\n",
        "  X_test = test[features]\n",
        "  testing_probs[origin]=models[origin].predict_proba(X_test)[:,1]"
      ],
      "execution_count": 0,
      "outputs": []
    },
    {
      "metadata": {
        "id": "HpuI3rs-hoJ3",
        "colab_type": "text"
      },
      "cell_type": "markdown",
      "source": [
        "## 3.6 - Choose the origin"
      ]
    },
    {
      "metadata": {
        "id": "zFk_OZ_nh5lN",
        "colab_type": "text"
      },
      "cell_type": "markdown",
      "source": [
        "Now that we trained the models and computed the probabilities in each origin we can classify each observation. **To classify each observation we want to select the origin with the highest probability of classification for that observation.**\n",
        "\n",
        "While each column in our dataframe **testing_probs** represents an origin we just need to choose the one with the largest probability. We can use the Dataframe method [idxmax()](http://pandas.pydata.org/pandas-docs/stable/generated/pandas.DataFrame.idxmax.html) to return a Series where each value corresponds to the column or where the maximum value occurs for that observation. We need to make sure to set the axis paramater to 1 since we want to calculate the maximum value across columns. Since each column maps directly to an origin the resulting Series will be the classification from our model.\n",
        "\n",
        "**Exercise Start**\n",
        "\n",
        "<img width=\"100\" alt=\"creating a repo\" src=\"https://drive.google.com/uc?export=view&id=1E8tR7B9YYUXsU_rddJAyq0FrM0MSelxZ\">\n",
        "\n",
        "\n",
        "- Classify each observation in the test set using the **testing_probs** Dataframe.\n",
        "- Assign the predicted origins to **predicted_origins** and use the **print** function to display it.\n"
      ]
    },
    {
      "metadata": {
        "id": "mwz2cPvci8Sp",
        "colab_type": "code",
        "outputId": "acfa73ff-e5c7-44f4-bd4f-aa626205c2cc",
        "colab": {
          "base_uri": "https://localhost:8080/",
          "height": 1071
        }
      },
      "cell_type": "code",
      "source": [
        "predicted_origins=testing_probs.idxmax(axis=1)\n",
        "print(predicted_origins)"
      ],
      "execution_count": 0,
      "outputs": [
        {
          "output_type": "stream",
          "text": [
            "0      1\n",
            "1      1\n",
            "2      1\n",
            "3      1\n",
            "4      3\n",
            "5      3\n",
            "6      1\n",
            "7      1\n",
            "8      3\n",
            "9      2\n",
            "10     3\n",
            "11     1\n",
            "12     3\n",
            "13     1\n",
            "14     1\n",
            "15     3\n",
            "16     3\n",
            "17     1\n",
            "18     1\n",
            "19     1\n",
            "20     1\n",
            "21     1\n",
            "22     1\n",
            "23     1\n",
            "24     1\n",
            "25     1\n",
            "26     1\n",
            "27     1\n",
            "28     3\n",
            "29     1\n",
            "      ..\n",
            "88     1\n",
            "89     1\n",
            "90     1\n",
            "91     1\n",
            "92     1\n",
            "93     1\n",
            "94     3\n",
            "95     3\n",
            "96     2\n",
            "97     3\n",
            "98     3\n",
            "99     1\n",
            "100    3\n",
            "101    3\n",
            "102    1\n",
            "103    1\n",
            "104    1\n",
            "105    3\n",
            "106    1\n",
            "107    3\n",
            "108    1\n",
            "109    1\n",
            "110    3\n",
            "111    3\n",
            "112    1\n",
            "113    1\n",
            "114    1\n",
            "115    1\n",
            "116    1\n",
            "117    1\n",
            "Length: 118, dtype: int64\n"
          ],
          "name": "stdout"
        }
      ]
    }
  ]
}